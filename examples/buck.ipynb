{
 "cells": [
  {
   "cell_type": "markdown",
   "metadata": {},
   "source": [
    "# Buck synchronous rectifier design\n",
    "this is a design of inductor buck synchronous rectifier, the design is based on https://www.ti.com/lit/ds/symlink/pth08t250w.pdf?ts=1735049340731"
   ]
  },
  {
   "cell_type": "code",
   "execution_count": 27,
   "metadata": {},
   "outputs": [
    {
     "data": {
      "text/html": [
       "<div>\n",
       "<style scoped>\n",
       "    .dataframe tbody tr th:only-of-type {\n",
       "        vertical-align: middle;\n",
       "    }\n",
       "\n",
       "    .dataframe tbody tr th {\n",
       "        vertical-align: top;\n",
       "    }\n",
       "\n",
       "    .dataframe thead th {\n",
       "        text-align: right;\n",
       "    }\n",
       "</style>\n",
       "<table border=\"1\" class=\"dataframe\">\n",
       "  <thead>\n",
       "    <tr style=\"text-align: right;\">\n",
       "      <th></th>\n",
       "      <th>vin</th>\n",
       "      <th>vo</th>\n",
       "      <th>io</th>\n",
       "      <th>po</th>\n",
       "      <th>ploss</th>\n",
       "      <th>pin</th>\n",
       "      <th>iin</th>\n",
       "      <th>eff</th>\n",
       "      <th>duty</th>\n",
       "      <th>ioripple</th>\n",
       "      <th>Lmin</th>\n",
       "    </tr>\n",
       "  </thead>\n",
       "  <tbody>\n",
       "    <tr>\n",
       "      <th>99</th>\n",
       "      <td>14.000000</td>\n",
       "      <td>3.6</td>\n",
       "      <td>50</td>\n",
       "      <td>180.0</td>\n",
       "      <td>10.8</td>\n",
       "      <td>190.8</td>\n",
       "      <td>12.857143</td>\n",
       "      <td>0.943396</td>\n",
       "      <td>0.257143</td>\n",
       "      <td>10.0</td>\n",
       "      <td>2.674286e-06</td>\n",
       "    </tr>\n",
       "    <tr>\n",
       "      <th>9</th>\n",
       "      <td>4.500000</td>\n",
       "      <td>3.6</td>\n",
       "      <td>50</td>\n",
       "      <td>180.0</td>\n",
       "      <td>10.8</td>\n",
       "      <td>190.8</td>\n",
       "      <td>40.000000</td>\n",
       "      <td>0.943396</td>\n",
       "      <td>0.800000</td>\n",
       "      <td>10.0</td>\n",
       "      <td>7.200000e-07</td>\n",
       "    </tr>\n",
       "    <tr>\n",
       "      <th>79</th>\n",
       "      <td>11.888889</td>\n",
       "      <td>3.6</td>\n",
       "      <td>50</td>\n",
       "      <td>180.0</td>\n",
       "      <td>10.8</td>\n",
       "      <td>190.8</td>\n",
       "      <td>15.140187</td>\n",
       "      <td>0.943396</td>\n",
       "      <td>0.302804</td>\n",
       "      <td>10.0</td>\n",
       "      <td>2.509907e-06</td>\n",
       "    </tr>\n",
       "    <tr>\n",
       "      <th>69</th>\n",
       "      <td>10.833333</td>\n",
       "      <td>3.6</td>\n",
       "      <td>50</td>\n",
       "      <td>180.0</td>\n",
       "      <td>10.8</td>\n",
       "      <td>190.8</td>\n",
       "      <td>16.615385</td>\n",
       "      <td>0.943396</td>\n",
       "      <td>0.332308</td>\n",
       "      <td>10.0</td>\n",
       "      <td>2.403692e-06</td>\n",
       "    </tr>\n",
       "    <tr>\n",
       "      <th>59</th>\n",
       "      <td>9.777778</td>\n",
       "      <td>3.6</td>\n",
       "      <td>50</td>\n",
       "      <td>180.0</td>\n",
       "      <td>10.8</td>\n",
       "      <td>190.8</td>\n",
       "      <td>18.409091</td>\n",
       "      <td>0.943396</td>\n",
       "      <td>0.368182</td>\n",
       "      <td>10.0</td>\n",
       "      <td>2.274545e-06</td>\n",
       "    </tr>\n",
       "    <tr>\n",
       "      <th>...</th>\n",
       "      <td>...</td>\n",
       "      <td>...</td>\n",
       "      <td>...</td>\n",
       "      <td>...</td>\n",
       "      <td>...</td>\n",
       "      <td>...</td>\n",
       "      <td>...</td>\n",
       "      <td>...</td>\n",
       "      <td>...</td>\n",
       "      <td>...</td>\n",
       "      <td>...</td>\n",
       "    </tr>\n",
       "    <tr>\n",
       "      <th>40</th>\n",
       "      <td>8.722222</td>\n",
       "      <td>0.7</td>\n",
       "      <td>50</td>\n",
       "      <td>35.0</td>\n",
       "      <td>10.8</td>\n",
       "      <td>45.8</td>\n",
       "      <td>4.012739</td>\n",
       "      <td>0.764192</td>\n",
       "      <td>0.080255</td>\n",
       "      <td>10.0</td>\n",
       "      <td>6.438217e-07</td>\n",
       "    </tr>\n",
       "    <tr>\n",
       "      <th>30</th>\n",
       "      <td>7.666667</td>\n",
       "      <td>0.7</td>\n",
       "      <td>50</td>\n",
       "      <td>35.0</td>\n",
       "      <td>10.8</td>\n",
       "      <td>45.8</td>\n",
       "      <td>4.565217</td>\n",
       "      <td>0.764192</td>\n",
       "      <td>0.091304</td>\n",
       "      <td>10.0</td>\n",
       "      <td>6.360870e-07</td>\n",
       "    </tr>\n",
       "    <tr>\n",
       "      <th>20</th>\n",
       "      <td>6.611111</td>\n",
       "      <td>0.7</td>\n",
       "      <td>50</td>\n",
       "      <td>35.0</td>\n",
       "      <td>10.8</td>\n",
       "      <td>45.8</td>\n",
       "      <td>5.294118</td>\n",
       "      <td>0.764192</td>\n",
       "      <td>0.105882</td>\n",
       "      <td>10.0</td>\n",
       "      <td>6.258824e-07</td>\n",
       "    </tr>\n",
       "    <tr>\n",
       "      <th>10</th>\n",
       "      <td>5.555556</td>\n",
       "      <td>0.7</td>\n",
       "      <td>50</td>\n",
       "      <td>35.0</td>\n",
       "      <td>10.8</td>\n",
       "      <td>45.8</td>\n",
       "      <td>6.300000</td>\n",
       "      <td>0.764192</td>\n",
       "      <td>0.126000</td>\n",
       "      <td>10.0</td>\n",
       "      <td>6.118000e-07</td>\n",
       "    </tr>\n",
       "    <tr>\n",
       "      <th>50</th>\n",
       "      <td>9.777778</td>\n",
       "      <td>0.7</td>\n",
       "      <td>50</td>\n",
       "      <td>35.0</td>\n",
       "      <td>10.8</td>\n",
       "      <td>45.8</td>\n",
       "      <td>3.579545</td>\n",
       "      <td>0.764192</td>\n",
       "      <td>0.071591</td>\n",
       "      <td>10.0</td>\n",
       "      <td>6.498864e-07</td>\n",
       "    </tr>\n",
       "  </tbody>\n",
       "</table>\n",
       "<p>100 rows × 11 columns</p>\n",
       "</div>"
      ],
      "text/plain": [
       "          vin   vo  io     po  ploss    pin        iin       eff      duty  \\\n",
       "99  14.000000  3.6  50  180.0   10.8  190.8  12.857143  0.943396  0.257143   \n",
       "9    4.500000  3.6  50  180.0   10.8  190.8  40.000000  0.943396  0.800000   \n",
       "79  11.888889  3.6  50  180.0   10.8  190.8  15.140187  0.943396  0.302804   \n",
       "69  10.833333  3.6  50  180.0   10.8  190.8  16.615385  0.943396  0.332308   \n",
       "59   9.777778  3.6  50  180.0   10.8  190.8  18.409091  0.943396  0.368182   \n",
       "..        ...  ...  ..    ...    ...    ...        ...       ...       ...   \n",
       "40   8.722222  0.7  50   35.0   10.8   45.8   4.012739  0.764192  0.080255   \n",
       "30   7.666667  0.7  50   35.0   10.8   45.8   4.565217  0.764192  0.091304   \n",
       "20   6.611111  0.7  50   35.0   10.8   45.8   5.294118  0.764192  0.105882   \n",
       "10   5.555556  0.7  50   35.0   10.8   45.8   6.300000  0.764192  0.126000   \n",
       "50   9.777778  0.7  50   35.0   10.8   45.8   3.579545  0.764192  0.071591   \n",
       "\n",
       "    ioripple          Lmin  \n",
       "99      10.0  2.674286e-06  \n",
       "9       10.0  7.200000e-07  \n",
       "79      10.0  2.509907e-06  \n",
       "69      10.0  2.403692e-06  \n",
       "59      10.0  2.274545e-06  \n",
       "..       ...           ...  \n",
       "40      10.0  6.438217e-07  \n",
       "30      10.0  6.360870e-07  \n",
       "20      10.0  6.258824e-07  \n",
       "10      10.0  6.118000e-07  \n",
       "50      10.0  6.498864e-07  \n",
       "\n",
       "[100 rows x 11 columns]"
      ]
     },
     "execution_count": 27,
     "metadata": {},
     "output_type": "execute_result"
    }
   ],
   "source": [
    "import numpy as np\n",
    "\n",
    "vin = [4.5, 14]\n",
    "vin = np.linspace(4.5, 14, 10, endpoint=True)\n",
    "vo = [0.7, 3.6]\n",
    "vo = np.linspace(0.7, 3.6, 10, endpoint=True)\n",
    "io = 50\n",
    "\n",
    "# create dataframes with combinations of vin, vo, and io as columns\n",
    "\n",
    "import pandas as pd\n",
    "import itertools\n",
    "\n",
    "df = pd.DataFrame(list(itertools.product(vin, vo, [io])), columns=['vin', 'vo', 'io'])\n",
    "\n",
    "# calculate output section\n",
    "df['po'] = df['vo'] * df['io']\n",
    "\n",
    "# calculate loss section\n",
    "Pidle = 0.01 * df['po'].max()\n",
    "Ploss_cond_max = 0.05*df['po'].max()\n",
    "Ro_max = Ploss_cond_max / df['io'].max()**2\n",
    "df['ploss'] = Pidle + Ro_max * df['io']**2\n",
    "\n",
    "# calculate input section\n",
    "df['pin'] = df['po'] + df['ploss']\n",
    "df['iin'] = df['po'] / df['vin']\n",
    "\n",
    "# calculate efficiency\n",
    "df['eff'] = df['po'] / df['pin']\n",
    "df['duty'] = df['vo'] / df['vin'] # supposed to be CCM\n",
    "\n",
    "# constraints\n",
    "fsw = 100e3\n",
    "df['ioripple'] = 0.2 * df['io']\n",
    "df['Lmin'] = (df['vin'] - df['vo']) * df['duty'] / df['ioripple'] / fsw\n",
    "\n",
    "# print results\n",
    "df.sort_values(by='po', ascending=False, inplace=True)\n",
    "df"
   ]
  },
  {
   "cell_type": "code",
   "execution_count": 28,
   "metadata": {},
   "outputs": [
    {
     "data": {
      "text/plain": [
       "<Axes: xlabel='po'>"
      ]
     },
     "execution_count": 28,
     "metadata": {},
     "output_type": "execute_result"
    },
    {
     "data": {
      "image/png": "[encoded data removed]",
      "text/plain": [
       "<Figure size 640x480 with 1 Axes>"
      ]
     },
     "metadata": {},
     "output_type": "display_data"
    }
   ],
   "source": [
    "# plot results\n",
    "import matplotlib.pyplot as plt\n",
    "\n",
    "fig, ax = plt.subplots()\n",
    "df.plot(x='po', y='eff', ax=ax)"
   ]
  },
  {
   "cell_type": "code",
   "execution_count": 31,
   "metadata": {},
   "outputs": [
    {
     "name": "stdout",
     "output_type": "stream",
     "text": [
      "[5.911111111111111e-07, 2.6742857142857144e-06]\n"
     ]
    }
   ],
   "source": [
    "# define inductance range\n",
    "Lo_range = [df['Lmin'].min(), df['Lmin'].max()]\n",
    "print(Lo_range)\n",
    "\n"
   ]
  },
  {
   "cell_type": "code",
   "execution_count": 32,
   "metadata": {},
   "outputs": [],
   "source": [
    "import PyMKF\n",
    "import json\n",
    "import pprint"
   ]
  },
  {
   "cell_type": "code",
   "execution_count": 35,
   "metadata": {},
   "outputs": [
    {
     "data": {
      "image/png": "[encoded data removed]",
      "text/plain": [
       "<Figure size 640x480 with 1 Axes>"
      ]
     },
     "metadata": {},
     "output_type": "display_data"
    }
   ],
   "source": [
    "processed_waveform = {\n",
    "    \"offset\": 50,\n",
    "    \"label\": \"Triangular\",\n",
    "    \"peakToPeak\": 50*0.2,\n",
    "}\n",
    "\n",
    "waveform = PyMKF.create_waveform(processed_waveform, fsw)\n",
    "\n",
    "fig, ax = plt.subplots()\n",
    "ax.plot(waveform['time'], waveform['data'])\n",
    "plt.show()\n"
   ]
  },
  {
   "cell_type": "code",
   "execution_count": 38,
   "metadata": {},
   "outputs": [],
   "source": [
    "from collections import defaultdict\n",
    "\n",
    "# Function to create a nested defaultdict\n",
    "def nested_dict():\n",
    "    return defaultdict(nested_dict)\n"
   ]
  },
  {
   "cell_type": "code",
   "execution_count": 40,
   "metadata": {},
   "outputs": [],
   "source": [
    "# Create the dynamic dictionary\n",
    "inputs = nested_dict()\n",
    "inputs[\"operatingPoints\"][0][\"excitationsPerWinding\"][0] = {}\n",
    "inputs[\"operatingPoints\"][0][\"excitationsPerWinding\"][0][\"frequency\"] = fsw\n",
    "inputs[\"operatingPoints\"][0][\"excitationsPerWinding\"][0][\"current\"] = {}\n",
    "inputs[\"operatingPoints\"][0][\"excitationsPerWinding\"][0][\"current\"][\"waveform\"] = waveform\n",
    "inputs[\"operatingPoints\"][0][\"excitationsPerWinding\"][0][\"voltage\"] = PyMKF.calculate_induced_voltage(inputs[\"operatingPoints\"][0][\"excitationsPerWinding\"][0], np.min(Lo_range))\n",
    "inputs[\"operatingPoints\"][0][\"excitationsPerWinding\"][1] = PyMKF.calculate_reflected_secondary(inputs[\"operatingPoints\"][0][\"excitationsPerWinding\"][0], fsw)"
   ]
  },
  {
   "cell_type": "code",
   "execution_count": 43,
   "metadata": {},
   "outputs": [
    {
     "data": {
      "text/plain": [
       "\"Exception: [json.exception.out_of_range.403] key 'coil' not found\""
      ]
     },
     "execution_count": 43,
     "metadata": {},
     "output_type": "execute_result"
    }
   ],
   "source": [
    "magnetic = {}\n",
    "mas_result = PyMKF.simulate(inputs, magnetic, {})\n",
    "mas_result"
   ]
  },
  {
   "cell_type": "code",
   "execution_count": null,
   "metadata": {},
   "outputs": [],
   "source": [
    "\n",
    "pprint.pprint(f'Core losses at {fsw}: {mas_result[\"outputs\"][0][\"coreLosses\"][\"coreLosses\"]}')\n",
    "pprint.pprint(f'Winding losses at {fsw}: {mas_result[\"outputs\"][0][\"windingLosses\"][\"windingLosses\"]}')"
   ]
  }
 ],
 "metadata": {
  "kernelspec": {
   "display_name": "icm",
   "language": "python",
   "name": "python3"
  },
  "language_info": {
   "codemirror_mode": {
    "name": "ipython",
    "version": 3
   },
   "file_extension": ".py",
   "mimetype": "text/x-python",
   "name": "python",
   "nbconvert_exporter": "python",
   "pygments_lexer": "ipython3",
   "version": "3.11.3"
  }
 },
 "nbformat": 4,
 "nbformat_minor": 2
}
